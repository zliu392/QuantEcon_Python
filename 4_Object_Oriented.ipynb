{
 "cells": [
  {
   "cell_type": "markdown",
   "metadata": {},
   "source": [
    "# 4. Object Oriented Programming"
   ]
  },
  {
   "cell_type": "code",
   "execution_count": 5,
   "metadata": {
    "collapsed": false
   },
   "outputs": [
    {
     "data": {
      "text/plain": [
       "['__add__',\n",
       " '__class__',\n",
       " '__contains__',\n",
       " '__delattr__',\n",
       " '__delitem__',\n",
       " '__dir__',\n",
       " '__doc__',\n",
       " '__eq__',\n",
       " '__format__',\n",
       " '__ge__',\n",
       " '__getattribute__',\n",
       " '__getitem__',\n",
       " '__gt__',\n",
       " '__hash__',\n",
       " '__iadd__',\n",
       " '__imul__',\n",
       " '__init__',\n",
       " '__init_subclass__',\n",
       " '__iter__',\n",
       " '__le__',\n",
       " '__len__',\n",
       " '__lt__',\n",
       " '__mul__',\n",
       " '__ne__',\n",
       " '__new__',\n",
       " '__reduce__',\n",
       " '__reduce_ex__',\n",
       " '__repr__',\n",
       " '__reversed__',\n",
       " '__rmul__',\n",
       " '__setattr__',\n",
       " '__setitem__',\n",
       " '__sizeof__',\n",
       " '__str__',\n",
       " '__subclasshook__',\n",
       " 'append',\n",
       " 'clear',\n",
       " 'copy',\n",
       " 'count',\n",
       " 'extend',\n",
       " 'index',\n",
       " 'insert',\n",
       " 'pop',\n",
       " 'remove',\n",
       " 'reverse',\n",
       " 'sort']"
      ]
     },
     "execution_count": 5,
     "metadata": {},
     "output_type": "execute_result"
    }
   ],
   "source": [
    "x = [1, 5, 4]\n",
    "x.sort()\n",
    "x.__class__\n",
    "# View all the attributes of x. \n",
    "#\n",
    "# dir(x)     "
   ]
  },
  {
   "cell_type": "markdown",
   "metadata": {},
   "source": [
    "### (1) Defining Classes"
   ]
  },
  {
   "cell_type": "code",
   "execution_count": 10,
   "metadata": {
    "collapsed": false
   },
   "outputs": [
    {
     "name": "stdout",
     "output_type": "stream",
     "text": [
      "10\n"
     ]
    }
   ],
   "source": [
    "class Consumer:\n",
    "    pass     # Empty code block\n",
    "c1 = Consumer()\n",
    "c1.wealth = 10    # Attach new attributes\n",
    "print(c1.wealth)    "
   ]
  },
  {
   "cell_type": "code",
   "execution_count": 12,
   "metadata": {
    "collapsed": true
   },
   "outputs": [],
   "source": [
    "class Consumer:\n",
    "    \n",
    "    def __init__(self, w):    # Constructor method\n",
    "        \"Initialize consumer with w dollars of wealth\"\n",
    "        self.wealth = w\n",
    "        \n",
    "    def earn(self, y):\n",
    "        \"The consumer earns y dollars\"\n",
    "        self.wealth += y\n",
    "    \n",
    "    def spend(self, x):\n",
    "        \"The consumer spends x dollars\"\n",
    "        new_wealth = self.wealth - x\n",
    "        if new_wealth < 0:\n",
    "            print(\"Insufficient funds\")\n",
    "        else:\n",
    "            self.wealth = new_wealth"
   ]
  },
  {
   "cell_type": "code",
   "execution_count": 14,
   "metadata": {
    "collapsed": false
   },
   "outputs": [
    {
     "data": {
      "text/plain": [
       "5"
      ]
     },
     "execution_count": 14,
     "metadata": {},
     "output_type": "execute_result"
    }
   ],
   "source": [
    "c1 = Consumer(10)\n",
    "c1.spend(5)\n",
    "c1.wealth"
   ]
  },
  {
   "cell_type": "code",
   "execution_count": 15,
   "metadata": {
    "collapsed": false
   },
   "outputs": [
    {
     "name": "stdout",
     "output_type": "stream",
     "text": [
      "Insufficient funds\n"
     ]
    }
   ],
   "source": [
    "c1.earn(15)\n",
    "c1.spend(100)"
   ]
  },
  {
   "cell_type": "code",
   "execution_count": 18,
   "metadata": {
    "collapsed": false
   },
   "outputs": [
    {
     "data": {
      "text/plain": [
       "{'wealth': 20}"
      ]
     },
     "execution_count": 18,
     "metadata": {},
     "output_type": "execute_result"
    }
   ],
   "source": [
    "c1.__dict__"
   ]
  },
  {
   "cell_type": "code",
   "execution_count": 19,
   "metadata": {
    "collapsed": false
   },
   "outputs": [
    {
     "data": {
      "text/plain": [
       "{'wealth': 20}"
      ]
     },
     "execution_count": 19,
     "metadata": {},
     "output_type": "execute_result"
    }
   ],
   "source": [
    "c2 = Consumer(20)\n",
    "c2.__dict__"
   ]
  },
  {
   "cell_type": "code",
   "execution_count": 21,
   "metadata": {
    "collapsed": false
   },
   "outputs": [
    {
     "data": {
      "text/plain": [
       "mappingproxy({'__dict__': <attribute '__dict__' of 'Consumer' objects>,\n",
       "              '__doc__': None,\n",
       "              '__init__': <function __main__.Consumer.__init__>,\n",
       "              '__module__': '__main__',\n",
       "              '__weakref__': <attribute '__weakref__' of 'Consumer' objects>,\n",
       "              'earn': <function __main__.Consumer.earn>,\n",
       "              'spend': <function __main__.Consumer.spend>})"
      ]
     },
     "execution_count": 21,
     "metadata": {},
     "output_type": "execute_result"
    }
   ],
   "source": [
    "Consumer.__dict__"
   ]
  },
  {
   "cell_type": "markdown",
   "metadata": {},
   "source": [
    "### (2) Example: Solow Model"
   ]
  },
  {
   "cell_type": "code",
   "execution_count": 33,
   "metadata": {
    "collapsed": false
   },
   "outputs": [],
   "source": [
    "\"\"\"\n",
    "Filename: solow.py\n",
    "Reference: http://quant-econ.net/py/python_oop.html\n",
    "\"\"\"\n",
    "import numpy as np\n",
    "class Solow:    # docstring里的这个r可以让backslash正常显示\n",
    "    r\"\"\"    \n",
    "    Implements the Solow growth model with update rule\n",
    "\n",
    "    .. math::\n",
    "        k_{t+1} = \\frac{s z k^{\\alpha}_t}{1 + n}  + k_t \\frac{1 - d}{1 + n}\n",
    "    \n",
    "    \"\"\"\n",
    "    def __init__(self, n, s, d, alpha, z, k):    # 创建实例的时候需要哪些属性\n",
    "        \"\"\" \n",
    "        Solow growth model with Cobb Douglas production function.  All\n",
    "        parameters are scalars.  See http://quant-econ.net/py/python_oop.html\n",
    "        for interpretation.\n",
    "        \"\"\"\n",
    "        self.n, self.s, self.d, self.alpha, self.z = n, s, d, alpha, z    # 简便的赋值方法\n",
    "        self.k = k\n",
    "        \n",
    "\n",
    "    def h(self):    # 计算K_t+1\n",
    "        \"Evaluate the h function\"\n",
    "        temp = self.s * self.z * self.k**self.alpha + self.k * (1 - self.d)\n",
    "        return temp / (1 + self.n)\n",
    "\n",
    "    def update(self):\n",
    "        \"Update the current state (i.e., the capital stock).\"\n",
    "        self.k =  self.h()\n",
    "        \n",
    "    def steady_state(self):\n",
    "         \"Compute the steady state value of capital.\"\n",
    "         return ((self.s * self.z) / (self.n + self.d))**(1 / (1 - self.alpha))\n",
    "     \n",
    "    def generate_sequence(self, t):    # 厉害了\n",
    "        \"Generate and return a time series of length t\"\n",
    "        path = []\n",
    "        for i in range(t):\n",
    "            path.append(self.k)\n",
    "            self.update()\n",
    "        return path"
   ]
  },
  {
   "cell_type": "code",
   "execution_count": 69,
   "metadata": {
    "collapsed": false
   },
   "outputs": [
    {
     "data": {
      "image/png": "[encoded data removed]",
      "text/plain": [
       "<matplotlib.figure.Figure at 0x111c3eac8>"
      ]
     },
     "metadata": {},
     "output_type": "display_data"
    }
   ],
   "source": [
    "import matplotlib.pyplot as plt\n",
    "china = Solow(0.05, 0.3, 0.2,0.5, 2, 1)\n",
    "china.steady_state()\n",
    "T = 60\n",
    "fig, ax = plt.subplots()\n",
    "ax.plot([china.steady_state()]*T, 'k-', label = 'steadystate')\n",
    "# 上一行的中括号很重要， 生成一个长度为60的List\n",
    "ax.plot(China.generate_sequence(T), 'o-', lw = 2, alpha = 0.6, label = 'China')\n",
    "plt.show()"
   ]
  },
  {
   "cell_type": "code",
   "execution_count": 55,
   "metadata": {
    "collapsed": false
   },
   "outputs": [
    {
     "data": {
      "image/png": "[encoded data removed]",
      "text/plain": [
       "<matplotlib.figure.Figure at 0x111bb5390>"
      ]
     },
     "metadata": {},
     "output_type": "display_data"
    }
   ],
   "source": []
  },
  {
   "cell_type": "markdown",
   "metadata": {},
   "source": [
    "### (3) Example: A Market"
   ]
  },
  {
   "cell_type": "code",
   "execution_count": 57,
   "metadata": {
    "collapsed": true
   },
   "outputs": [],
   "source": [
    "\"\"\"\n",
    "Filename: market.py\n",
    "Reference: http://quant-econ.net/py/python_oop.html\n",
    "\"\"\"\n",
    "\n",
    "from scipy.integrate import quad\n",
    "\n",
    "class Market:\n",
    "\n",
    "    def __init__(self, ad, bd, az, bz, tax):\n",
    "        \"\"\"\n",
    "        Set up market parameters.  All parameters are scalars.  See\n",
    "        http://quant-econ.net/py/python_oop.html for interpretation.\n",
    "\n",
    "        \"\"\"\n",
    "        self.ad, self.bd, self.az, self.bz, self.tax = ad, bd, az, bz, tax\n",
    "        if ad < az:\n",
    "            raise ValueError('Insufficient demand.')    # 关于 Error\n",
    "        \n",
    "    def price(self):\n",
    "        \"Return equilibrium price\"\n",
    "        return  (self.ad - self.az + self.bz*self.tax)/(self.bd + self.bz)    # 需先解出式子\n",
    "    \n",
    "    def quantity(self):\n",
    "        \"Compute equilibrium quantity\"\n",
    "        return  self.ad - self.bd * self.price()    # 好方便啊\n",
    "        \n",
    "    def consumer_surp(self):\n",
    "        \"Compute consumer surplus\"\n",
    "        # == Compute area under inverse demand function == #\n",
    "        integrand = lambda x: (self.ad/self.bd) - (1/self.bd)* x\n",
    "        area, error = quad(integrand, 0, self.quantity())    #这个error是干嘛的？\n",
    "        return area - self.price() * self.quantity()\n",
    "    \n",
    "    def producer_surp(self):\n",
    "        \"Compute producer surplus\"\n",
    "        #  == Compute area above inverse supply curve, excluding tax == #\n",
    "        integrand = lambda x: -(self.az/self.bz) + (1/self.bz) * x\n",
    "        area, error = quad(integrand, 0, self.quantity())    # 从0到均衡产出\n",
    "        return (self.price() - self.tax) * self.quantity() - area\n",
    "    \n",
    "    def taxrev(self):\n",
    "        \"Compute tax revenue\"\n",
    "        return self.tax * self.quantity()\n",
    "        \n",
    "    def inverse_demand(self,x):    # 给定一个需求， 算这一点上的价格\n",
    "        \"Compute inverse demand\"\n",
    "        return self.ad/self.bd - (1/self.bd)* x    # p = ad/bd - q/bd\n",
    "    \n",
    "    def inverse_supply(self,x):\n",
    "        \"Compute inverse supply curve\"\n",
    "        return -(self.az/self.bz) + (1/self.bz) * x + self.tax\n",
    "    \n",
    "    def inverse_supply_no_tax(self,x):\n",
    "        \"Compute inverse supply curve without tax\"\n",
    "        return -(self.az/self.bz) + (1/self.bz) * x"
   ]
  },
  {
   "cell_type": "code",
   "execution_count": 59,
   "metadata": {
    "collapsed": false
   },
   "outputs": [],
   "source": [
    "def deadw(m):\n",
    "    \"Computes deadweight loss for market m.\"\n",
    "    # == Create analogous market with no tax == #\n",
    "    m_no_tax = Market(m.ad, m.bd, m.az, m.bz, 0)   \n",
    "    # == Compare surplus, return difference == #\n",
    "    surp1 = m_no_tax.consumer_surp() + m_no_tax.producer_surp()  \n",
    "    surp2 = m.consumer_surp() + m.producer_surp() + m.taxrev()\n",
    "    return surp1 - surp2"
   ]
  },
  {
   "cell_type": "code",
   "execution_count": 60,
   "metadata": {
    "collapsed": false
   },
   "outputs": [
    {
     "data": {
      "text/plain": [
       "1.125"
      ]
     },
     "execution_count": 60,
     "metadata": {},
     "output_type": "execute_result"
    }
   ],
   "source": [
    "baseline_params = 15, .5, -2, .5, 3\n",
    "m = Market(*baseline_params)\n",
    "deadw(m)"
   ]
  },
  {
   "cell_type": "markdown",
   "metadata": {},
   "source": [
    "### (4) Example: Chaos\n",
    "\n",
    "It is interesting to see the results generated by the chaos model, but one needs to go through the math details to know what exactly going on behind the scene. \n",
    "\n",
    "Why does adding an exogenous random variable make the model become a failure?"
   ]
  },
  {
   "cell_type": "code",
   "execution_count": 155,
   "metadata": {
    "collapsed": false
   },
   "outputs": [],
   "source": [
    "import numpy as np\n",
    "\n",
    "class chaos:\n",
    "    \n",
    "    def __init__(self, r, x0):\n",
    "        \"\"\"\n",
    "        Generate time series from the chaos model.\n",
    "    \n",
    "        \"\"\"        \n",
    "        self.r, self.x = r, x0\n",
    "        if r < 0 or r > 4:\n",
    "            raise ValueError('Value of r out of bound.')\n",
    "        elif x0 < 0 or x0 > 1:\n",
    "            raise ValueError('Value of x0 out of bound.')\n",
    "    \n",
    "    def y(self):\n",
    "        \"Calculate x_t+1\"\n",
    "        temp = self.r * self.x * (1 - self.x)\n",
    "        return temp    # 这里不要写成self.y\n",
    "    \n",
    "    def update(self):\n",
    "        \"Update the path\"\n",
    "        self.x = self.y()    # 记得加括号\n",
    "        \n",
    "    def series_gen(self, T):\n",
    "        \"Generate series of length T\"\n",
    "        path = []\n",
    "        for i in range(T):\n",
    "            path.append(self.x)\n",
    "            self.update()\n",
    "        return path"
   ]
  },
  {
   "cell_type": "code",
   "execution_count": 157,
   "metadata": {
    "collapsed": false
   },
   "outputs": [
    {
     "data": {
      "image/png": "[encoded data removed]",
      "text/plain": [
       "<matplotlib.figure.Figure at 0x111d8a128>"
      ]
     },
     "metadata": {},
     "output_type": "display_data"
    }
   ],
   "source": [
    "universe = chaos(4, 0.1)\n",
    "ch = universe.series_gen(100)\n",
    "ch\n",
    "fig, ax = plt.subplots()\n",
    "ax.plot(range(100), ch, 'bo-', alpha = 0.5)\n",
    "plt.show()"
   ]
  },
  {
   "cell_type": "code",
   "execution_count": 158,
   "metadata": {
    "collapsed": false
   },
   "outputs": [
    {
     "data": {
      "image/png": "[encoded data removed]",
      "text/plain": [
       "<matplotlib.figure.Figure at 0x11136ee80>"
      ]
     },
     "metadata": {},
     "output_type": "display_data"
    }
   ],
   "source": [
    "fig, ax = plt.subplots()\n",
    "ch = chaos(4, 0.1)\n",
    "r = 2.5\n",
    "while r < 4:\n",
    "    ch.r = r\n",
    "    t = ch.series_gen(1000)[950:]\n",
    "    ax.plot([r] * len(t), t, 'b.', ms=0.6)\n",
    "    r = r + 0.01\n",
    "\n",
    "ax.set_xlabel(r'$r$', fontsize=16)\n",
    "plt.show()"
   ]
  },
  {
   "cell_type": "markdown",
   "metadata": {},
   "source": [
    "### (5) Special Methods"
   ]
  },
  {
   "cell_type": "code",
   "execution_count": 166,
   "metadata": {
    "collapsed": false
   },
   "outputs": [
    {
     "data": {
      "text/plain": [
       "12"
      ]
     },
     "execution_count": 166,
     "metadata": {},
     "output_type": "execute_result"
    }
   ],
   "source": [
    "class Foo:\n",
    "\n",
    "    def __len__(self):\n",
    "        return 12\n",
    "\n",
    "    def __call__(self, x):\n",
    "        return x + 42\n",
    "\n",
    "# Give the instance a length    \n",
    "f = Foo()\n",
    "len(f)"
   ]
  },
  {
   "cell_type": "code",
   "execution_count": 167,
   "metadata": {
    "collapsed": false
   },
   "outputs": [
    {
     "data": {
      "text/plain": [
       "50"
      ]
     },
     "execution_count": 167,
     "metadata": {},
     "output_type": "execute_result"
    }
   ],
   "source": [
    "# Make the instance callable.\n",
    "f(8)"
   ]
  },
  {
   "cell_type": "markdown",
   "metadata": {},
   "source": [
    "### (6) Exercises"
   ]
  },
  {
   "cell_type": "markdown",
   "metadata": {},
   "source": [
    "#### Q1. ECDF"
   ]
  },
  {
   "cell_type": "code",
   "execution_count": 194,
   "metadata": {
    "collapsed": true
   },
   "outputs": [],
   "source": [
    "# 1 ECDF\n",
    "class ECDF:\n",
    "    def __init__(self, data):\n",
    "        \"\"\"\n",
    "        Data for computing the empirical cumulative distribution function.\n",
    "        \n",
    "        \"\"\"\n",
    "        self.observations = data\n",
    "    \n",
    "    def __call__(self, x):\n",
    "        \"Returns the ECDF.\"\n",
    "        n = len(self.observations)\n",
    "        count = 0\n",
    "        for i in range(n):\n",
    "            if self.observations[i] <= x:\n",
    "                count += 1\n",
    "        return count/n    "
   ]
  },
  {
   "cell_type": "code",
   "execution_count": 195,
   "metadata": {
    "collapsed": false
   },
   "outputs": [
    {
     "data": {
      "text/plain": [
       "0.498"
      ]
     },
     "execution_count": 195,
     "metadata": {},
     "output_type": "execute_result"
    }
   ],
   "source": [
    "samples = [np.random.uniform(0, 1) for i in range(1000)]\n",
    "F = ECDF(samples)\n",
    "F(0.5)"
   ]
  },
  {
   "cell_type": "code",
   "execution_count": 185,
   "metadata": {
    "collapsed": false
   },
   "outputs": [
    {
     "data": {
      "text/plain": [
       "10"
      ]
     },
     "execution_count": 185,
     "metadata": {},
     "output_type": "execute_result"
    }
   ],
   "source": [
    "len(F.observations)"
   ]
  },
  {
   "cell_type": "markdown",
   "metadata": {},
   "source": [
    "#### Q2. Polynomial"
   ]
  },
  {
   "cell_type": "code",
   "execution_count": 254,
   "metadata": {
    "collapsed": false
   },
   "outputs": [],
   "source": [
    "class Polynomial:\n",
    "    \n",
    "    def __init__(self, coef):\n",
    "        \"\"\"Evaluate and differentiate polynomials.\"\"\"\n",
    "        if type(coef) is list:\n",
    "            self.coef = coef\n",
    "        else:\n",
    "            raise TypeError('Please input a list as the coefficients.')\n",
    "               \n",
    "    def __call__(self, x):\n",
    "        return sum(coef * x ** index for index, coef in enumerate(self.coef))\n",
    "    \n",
    "    def differentiate(self):\n",
    "        del self.coef[0]"
   ]
  },
  {
   "cell_type": "code",
   "execution_count": 256,
   "metadata": {
    "collapsed": false
   },
   "outputs": [
    {
     "data": {
      "text/plain": [
       "3"
      ]
     },
     "execution_count": 256,
     "metadata": {},
     "output_type": "execute_result"
    }
   ],
   "source": [
    "Poly = Polynomial([1,1,1])\n",
    "Poly(1)"
   ]
  },
  {
   "cell_type": "code",
   "execution_count": 248,
   "metadata": {
    "collapsed": false
   },
   "outputs": [
    {
     "data": {
      "text/plain": [
       "2"
      ]
     },
     "execution_count": 248,
     "metadata": {},
     "output_type": "execute_result"
    }
   ],
   "source": [
    "Poly.differentiate()\n",
    "Poly(1)"
   ]
  }
 ],
 "metadata": {
  "kernelspec": {
   "display_name": "Python 3",
   "language": "python",
   "name": "python3"
  },
  "language_info": {
   "codemirror_mode": {
    "name": "ipython",
    "version": 3
   },
   "file_extension": ".py",
   "mimetype": "text/x-python",
   "name": "python",
   "nbconvert_exporter": "python",
   "pygments_lexer": "ipython3",
   "version": "3.6.0"
  }
 },
 "nbformat": 4,
 "nbformat_minor": 2
}
